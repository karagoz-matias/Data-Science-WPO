{
  "nbformat": 4,
  "nbformat_minor": 0,
  "metadata": {
    "colab": {
      "provenance": [],
      "collapsed_sections": [
        "nghPFYpUeU1c"
      ],
      "include_colab_link": true
    },
    "kernelspec": {
      "name": "python3",
      "display_name": "Python 3"
    },
    "language_info": {
      "name": "python"
    }
  },
  "cells": [
    {
      "cell_type": "markdown",
      "metadata": {
        "id": "view-in-github",
        "colab_type": "text"
      },
      "source": [
        "<a href=\"https://colab.research.google.com/github/karagoz-matias/Data-Science-WPO/blob/main/exercise_session_1.ipynb\" target=\"_parent\"><img src=\"https://colab.research.google.com/assets/colab-badge.svg\" alt=\"Open In Colab\"/></a>"
      ]
    },
    {
      "cell_type": "markdown",
      "source": [
        "# FODS exercise session 1 : Python Recap"
      ],
      "metadata": {
        "id": "nghPFYpUeU1c"
      }
    },
    {
      "cell_type": "markdown",
      "source": [
        "![download.png](data:image/png;base64,iVBORw0KGgoAAAANSUhEUgAAAfQAAAH0CAIAAABEtEjdAAAAAXNSR0IArs4c6QAAIABJREFUeJzt3XlcE3f+P/DPzCQkAcKhRFEoCt4oHqBbj4rVelvqQXXZCopuwWOttkW0rdb+3Kprrfaw3m7Xs613q4h3XcV1EdcTLXgUECqKRhEIQkKO+f0x/Waz4ZDA5Jq8no8+diFkZt5E5pVPPp/PfIaqrKwkAAAgLLS9CwAAAP4h3AEABAjhDgAgQAh3AAABQrgDAAgQwh0AQIAQ7gAAAoRwBwAQIIQ7AIAAIdwBAAQI4Q4AIEAIdwAAAUK4AwAIEMIdAECAEO4AAAKEcAcAECCEOwCAACHcAQAECOEOACBACHcAAAES2bsAaKytW7fevHnT3d3d7HGKooKCgsLCwnr27EnTeBevr61bt/7nP/+JiooaPny4bY5YVFS0bNkyqVS6aNEiT0/Pxu/wwIED58+fDwkJmTlzJkVRjd8hOCOEu9PLyMjYunVrHU8ICAg4depU69atbVSQk+Nez7CwMJsdsbS0dPPmzQqF4qOPPuJlhydPnty6deuoUaOmT5/OMAwv+wSng3B3esY2e3R0tOnjv/3228WLFwkhhYWFI0eOvHz5skwms0N9zkalUhFCNBqNzY7Ie/4a/yTQbHdlCHeBGDVq1I4dO8xO5sLCwqioqOzs7Ly8vOPHj48ZM8Ze5TmRNWvWrFixwsPDw96FADQKwl04DAaDWRswICBg+/btvXr1IoQUFRUZH9fpdCKRSK/XFxQU0DQdEBAgEv33L6GkpKS4uJhlWZlM1qJFi9pafyqVSqlUsizr6enZvHlz427NjkIIefr0aUlJia+vb5MmTYw/1ev1xcXFXDNZKpU2bdpUIpGYHcK4B+5YhJCmTZt6e3tzP62qqrp//z7LsmKxOCgoiK9tfXx8fHx8atyVcas6XpmqqqpHjx5VVVWJxeKXXnqJoii9Xk/q1zznhkYePnxYUVEhFoubNWsmlUprfGZFRUVRURHLshRFtWzZsranmf4KFEUxDKPX6x88eFBVVVX3Py4IAMbZhKPGEzUoKCg4OJgQcv36dZZlCSFJSUlyufzIkSPR0dGhoaEdO3Zs2bJldnY2IeTevXsTJ05s0aJF586du3Tp0qZNm1atWv38889m+1SpVEuXLm3WrBn3tNatW7///vtnz56Vy+WhoaFcXv/6669yuXz69OkHDhwIDAzs0qVLQEDA+++/z7KsTqf79ttvPT09g4KCOnfu3Llz5zZt2vj4+Kxataqqqsp4FK7OLVu2rF27ljtW586d/f39FyxYoNfrr1+/3rZtW66ADh06vPLKK7m5uXxtK5PJNmzYwH37448/yuXyjz76KC0tzdvb2/jKNG/e/OjRo6YvC8uyO3fu9Pb2bt++Pbfnzp07X7p0qU+fPp6enllZWS/8F/zll19ef/31kJAQbnNfX99Vq1Zx7w1GOp1u/fr1TZs25Srp3Lmzr6/vtm3bDAZDbbvl/i06dOjw448/hoWFceVx/7jnzp17YVXgpNByF7iHDx/m5eURQrp162aa/qYd9FKptEmTJunp6YMGDTLbXKlUvv7663/961/nzp3Lba7RaEaPHp2enm76tPXr169fv54QUl5ebhpG27Zt27Ztm/Hb1q1bsywbFxf3008/VS914cKFT58+XbZsGfctt5+ZM2eaPe2LL7744osvzB68fPny66+/bhxXaPy2Zr788ssvv/zS9BGVSjVu3LhTp07169ePe2Tp0qVLly41fU5eXl7//v25r9VqdfXdmlIqldVf/4ULF4rF4tmzZ3PfPn/+fNiwYZcvXzZ72vTp07lBVNNPTmYKCwvfeust7muFQqFUKpVK5dChQ3ft2jV69Oi6awNnhJa7QLi7u1dvuZeUlHz44Yfc115eXmY/VSgUe/bsWb169bRp09zc3P785z9zj3/99dfFxcXl5eVnz55VKBSEkEWLFp09e5b76bZt27hkHzduXG5ubmVl5cWLF7kPB7V57733Dh06NG7cuJEjR168eJFL9ri4uLt371ZWVpaUlBw9epQ70J49e0pKSritjP0YCoXiX//617Nnz9LS0rincTZs2KBUKnNzc8ePH08IycvL4z5/8LVtdRs2bCgqKioqKlq+fDn3yM6dO7nPQ5cuXeKSXaFQ/Oc//6msrDTu3CLvv/9+Xl7es2fPDh06xD2ycuVK42vy5ZdfcskeFxeXl5dXWVmZl5fHHWX//v27d++uY89yuZwQ8t577xUXFxcUFJw6dYp7/J133nn69KmldYLjQ7gLxJkzZ3bt2rXXxOLFi1u0aMF1HQQEBERFRZltcvz48aioqISEhAULFpw5c4Zr4P/9739PTEyUyWQMw/zhD384c+YM9+TVq1frdLrnz59/9dVXhJA+ffps3bq1RYsWhJCwsDBjUlQXHx+/dOnSIUOGfPfdd23btt23bx8hRC6XL1u2LDAwkBAikUheffXVlStXEkJMu2U4crn8+PHjERERUqm0V69e8+bN4x7/8ssvJ0+e7Onp2aJFiwULFtR46MZsW9327dsnT57s7e3t7e09e/Zs7vVUKpUGg4Fl2U2bNnFHPH/+fJcuXQghLVq0+Pbbb/v06VPP/RNCZs6cuWTJEn9/f6lUOmTIkK+//poQ4ubmxvXFP336lDvKqFGj1q1b5+/vTwjx9/ffunUrV8zSpUsrKytr27lKpRo/fvySJUu4Dyj9+vU7ceIE9ysY30hASBDuAqFUKqdOnTrJhLF1qVAouI5j0+ePGjWqQ4cOxm//9a9/EUKCg4PHjRtn+rSQkBAu/i5dulReXm7s5Jk7d65YLDY+rWXLlp9++mmNhSUkJJh+pPjrX/96+/bt9PR0Pz8/44OlpaXcbqsbOnSoaZ0BAQHcbzR27Fjjg4GBgZ06deJ3WzMKhWLIkCHGbymK6tatm/HrioqKS5cuEUISExNfeukl49PEYvHHH3/8wp0bTZ482fS1ioyMJIQUFhY+fvyYEJKVlcWNDL/77rum3S80TXP/ak+ePHn48GEd+587d67p5Wx9+vTh3nvu3r3Lff4AIUGfu5ANGzZs0qRJI0aMqD7D3eyKVq6juWfPntWnrBhTjJj0R3ONblOmMWrKrBfY3d09KCiosLDwwIEDd+/ezc7OPn36NJdZNVKr1TXmjmmdDMPU2NfcmG3NuLm5mT3StWvX6k9r06aN2SOtWrV64c6NzAZFjYWVlZURQoyvkunbjCmVSmXswKkuICDArPdMJBL16NEjPT39zp071adagbNDuAvEqFGjdu3aZYwDnU5HqgWrqb59+5o24rir3v/973/r9XqztQq4XXGMUz5MH6ztEUKIQqEwm2io0+nef//9zZs31+N3IoSQyMjIBodOY7Y107t3b7NBC9Pf9+HDh1yXffVLn+qYxGJGoVDUfRVxfaYt1vivwCksLCwtLTX7AMeRSqWYEyk8CHeBkEqlpqFcn9aoqfLyckJI3759q6eh6a6MF+Vbun+j1atXG5M9KSmpZ8+erVu3DgkJSU1NnTp1avXnV28y119jtjVT91yXwMDAsLCwGzduVP/cY43Q/PnnnwMDA7VarfERsVjMXbhg2tllJiAgoPqgOqe2jzjg1BDuAvHCmXZ1YFmWa3JeunTp+fPnZo27jIyM6ptcvnzZtF+CZVnjdJq6i9y5cychJDg4+MyZM82aNTP+6IWX4Tg4rsn8888/T5482fRdluuL54Wxb41lWbPPQ48ePbp69aq/v7/Z5VemCgsLHz16ZJrvarWam+feu3dv9MkIDwZUgVAUxXXj5uXl7d+/3/RHOTk5q1atIoT84Q9/kMvlrVu35obgPvnkk8LCQuPTLly4sHHjxvoci2vyjxkzxjTZy8rK/va3v/Hxq9iHVCrlppDv37/f9LKgR48eLV68mK+jdO/enfvi448/Nm22syw7adKksWPH9unTp47RC0LI+vXrTVvoR44cuXHjBiGkZcuWfBUJjgPhDoQQMnjwYG60bcaMGRs2bFCpVHq9/vz58wMHDuSeMGvWLG7sceHChYQQpVLZo0ePlJSUnJycTZs2Vb/6pjZcC3fnzp3GK3Hu3Lnz1ltvcSnDzT3n/bezAeP1QcOHD1+zZk1OTs7hw4d79epV2yygBvD3909KSiKEpKenjx8/Pjc3l2VZpVI5f/78tLQ0Qkh8fHzdFxysX79+yZIlZWVlGo1m7969EydOJIQEBwebTh8CwUC3jNMzzmCpZ7dpjVdgenl5bdu2jZt7995777333numP/30009fffVV7utBgwZ99dVX7777rkqlmjBhgkWlSqXSOXPmTJ8+XalUvvLKK3K5nFurwNSTJ0/qqLM2ZgOJNtvWqGXLlj///PNrr71GCElOTk5OTjZ7QsN2a2bevHknTpy4cePG8ePHO3fubPojhUKxYMECrou/jj+JZcuWGa8B5nz33XdYLlSQ0HJ3etykxhqvUK3j+dX7uHv16vXrr7/GxcWZPhgREZGamjp37lzTB6dNm5aWlsa9ExBCunfvfvr06e3btxNC2rZty0284YqpPqQ5adIk44Aql+xyuXz16tUPHz7kOnyMffdcnWZDlFwMeXp6mvURc709xs5uHrflflr9XijVH+/bt++vv/46bdo07lu5XP6Pf/zjwoULhBCFQsFd8FWj2l4r4z+oMXy9vLz+/e9/my2EQAhJSkq6cuWKcX4qdy2u2Z+EQqHYsmWLadM+Ojr62rVrPXr0qK0wcGpUHZe0gWsqKSnhJlZ7enqaruNICNHpdBcuXJBIJB07dpTL5abLQM6YMYO7QcSePXteeOMnbulElmW5ZW0aPPfGceTn59+7d69jx47NmzfX6/XG9489e/ZMnjxZoVBkZmbWMdppKY1G8/jxY5ZlGYZp2rRp3cPRv/76a1hYmEKhuHXrlkQiefz4sVarlcvlvr6+fNUDDsjpTyrgXfU1b400Gk1iYmJeXt7UqVPXrl1rDOX8/HzublDt27evzy393NzcTK/kFIDly5dv3bo1ODj42rVrxja4Wq1evXo1IcTT07P6LMnGkEgkDXgBq6qq3N3d6/gMAUKCbhmwgIeHx9ChQwkh//jHPz799NNbt24VFBT8+OOPxrUPXXZojntZ8vLyJk+efOXKlQcPHpw7d2706NHcuPE777yDfm2wMXTLgGXu3btX22IsK1aseOedd2xcj4NQq9UjR440WwmZY3bxsO3dvn27e/fuvHcNgYNDyx0s07p166KiopUrVxpX0JXL5X/5y18yMjJcNtkJIVKp9MSJE7t27TJdBjI6Ovqnn37as2ePfQcVPD09ExISYmJiBDC2AfWHljsAgACh5Q4AIEAIdwAAAUK4AwAIEMIdAECAEO4AAAKEcAcAECCEOwCAACHcAQAECOEOACBACHcAAAFCuAMACBDCHQBAgBDuAAAChHAHABAghDsAgAAh3AEABAjhDgAgQAh3AAABQrgDAAgQwh0AQIAQ7gAAAoRwBwAQIIQ7AIAAIdwBAAQI4Q4AIEAIdwAAAUK4AwAIEMIdAECAEO4AAAKEcAcAECCEOwCAACHcAQAECOEOACBACHcAAAFCuAMACBDCHQBAgBDuAAAChHAHABAghDsAgAAh3AEABAjhDgAgQAh3AAABQrgDAAgQwh0AQIAQ7gAAAoRwBwAQIIQ7AIAAIdwBAAQI4Q4AIEAIdwAAAUK4AwAIEMIdAECAEO4AAAKEcAcAECCRvQsAgFrNmTPH0k2+/vpra1QCTgfhDuDQNl6+XP8nT4uIsF4l4FzQLQMAIEAIdwDhKysru3DhQlFR0QufefPmzfv37zfsKDqdjvvfixcvlpWVNWwnNnPlypXCwkJ7V2FFCHcA4du9e/fAgQMXL17Msmzdz1y0aNHevXst3T/Lsh999NH69esJIRqN5s0337x161YDa7WJ58+fjxkzZt++ffYuxIoQ7gACp1art23bRgjZv3//C9uqzZs3l8lklh5Cp9P99NNPnp6ehBCGYTw9PaVSacOqtQ2GYfz8/CQSib0LsSKEO4DA/fLLL3fu3MnIyGjfvv3hw4eNj9+8eXPChAkymewPf/jDjh07DAaD6ValpaXTp0+fNWsW19lipNPpvv3226CgIJlMlpSUpFQqCSF/+9vf8vLyZs6cuXTpUpZlpVLpjz/++Mc//lEmk02aNOnhw4fctvfu3UtISJDJZEFBQUePHuUe3LRp08qVK999991mzZqdPXvWeCCNRvOXv/zlwIED4eHhMpls4cKFxq6eGvdDCDl16tSgQYNkMtkbb7yRmZnJPXj8+PHPP/986dKlMpmsT58+586dM3t9WJbduXOn8TcqLi5uxIvtQBDuAAL3/fffR0ZGhoWFxcTErF69urKykhDy/PnzCRMm+Pj4/Pzzz2PGjElMTDx58iT3fIlEolarR40adeTIkQ8//FAk+p85dfPnz581a9ZHH3104MCBvXv39unTp6SkpHv37oSQIUOG9O3bl6IokUi0fPnyfv36ffvtt3v37p0/fz7Lsg8ePOjUqVN2dnZqaurs2bPHjRv3008/EUKysrI+/vjjjIyMHj16tGzZ0ngglmXT09MnTpw4e/bsPXv2rFq1av78+QaDobb9/Pjjj1FRUd27dz969ChN0y+//DKX7xUVFYsWLTpx4sQ///nP7t27Dx069MaNG6a/0cqVKxMSEubNm3f48OGjR4++8sor3Evk7DAVEkDInj59um7duoMHD1IU9cYbbyQnJ2dkZLz66quPHj3Ky8tLTk7u27dv3759W7VqpVAouE2uXr166tSp4uLiCxcumKYtISQ/P3/dunXbt28fP348IeTcuXMdO3ZMTU2dMGFCWFjY2LFjBw4cqFardTqd8Tk0Tf/973/X6/Vbt24NDg4+ffq0m5vboEGDKIpatGjR8OHDCSHBwcEnTpyQy+XV61+3bl18fDwhJDU1ddSoUfPnz//++++r7+e1115btWrVjBkzVq1aRVFU7969Bw8evHLlyq1btxJCAgICDh486OPjExERcePGjR9++GHRokXc/ouKihYtWrRjx44333yT+40CAwNPnz49atQoa/2T2ArCHUDI0tLSCCHp6elPnz4tLS0lhPzjH/+IjIxs3bp1ZGTkzJkzZ86cOXfu3PHjx3ft2pUQ4u7uvm7dOkLIp59+apbshBCtVqtQKIYMGcJ9GxQUFB0drVKp9Hq9TqfTaDTc42q1ukOHDtzXEonkzp075eXljx8/zsvLi4uLE4vFhJD9+/crFAq1Ws0wTGhoqIeHR/Xi1Wr1K6+8wn0dHh5OCCkuLq5xPyqVqri4OCYmhqIoQohUKp02bdq2bdtYlmVZdtiwYT4+PoQQsVgcExPz008/6fV6brfcazJz5kyu+f/gwQNCSG5uLi8vvn0h3AEEy2AwbNiwgRBy7Nix5cuXh4WFde/efe/evYsXLw4ODj527NjJkydTU1NXrly5cuXKzz77bPbs2Xq9/rXXXgsJCfn444+HDRsWFhZWx/4piqqxuU3+b1qkGe6NgaZpQsjo0aNpmnZzc6tj/yKRyMvLy3Tz2vbDDQKb9iB5eHgwDENRlE6na968ufFxs0FUhmEIIbGxsRERERqNxs3NbcaMGW3atKmjKmeBPncAwbp7925aWtrRo0fT09MrKysvXrzItU9TUlKKiopmzJjRv3//r7/+WqVSRUZGHjp0SK/XazSa6Ojor776KiIiYuLEiVqt1myfSqXy2rVr3NclJSWpqakSiYRrCNc9+YRhGB8fnylTpkydOnXq1Kn+/v4FBQV11y8SiYzHunXrllKp9PLyqm0/Uqn01KlT3JNZlt21axf3xiMWi/ft28e92bAsu2/fvm7dunGZTggxvkNMnDhx6tSpMTExBQUFVVVV9X+RHRbCHUCwDh06FBAQwHVocJo1azZt2rTVq1eXl5dv27ZtwYIFv/32W2ZmplKp7Nq1Kxd5Go2Gpum1a9fevXuXa/gbhYSEREZGTpo0KT09PTc3Nz4+Xq1WDxkyxN3dvW3btidOnMjIyKitmEmTJt29ezc5ObmgoODMmTNDhw69c+eOTCbj3hhqnIAvEokSEhIuXbp0/fr1qVOnjho1Kjg4uMb9cHH/ySef/PDDD4WFhZ999llKSkpiYiKX3Xfv3v3b3/5WWFj41VdfpaWlxcTEGLtlgoODx4wZM378+FOnThUUFHzwwQcLFy40/bjgvNAtAyBMarV67969kydPNo0qiqJiYmI2btz46NGjAwcOjBs3jrvyaNy4cR9//DH3HK6rpFu3bosXL/7000+joqJat27N/Yim6d27d8+bN2/QoEGEEIVCceTIkcDAQELIqFGjpk+frlQqDx48KJVKjT0kIpHIzc2NYZhu3bqlpKRERUVxR5w8efLy5cspivL09HR3d+f6yqtTKpX9+/cnhAwbNmzTpk117GfGjBl6vX7q1Knchlu2bBk6dKhxP8uWLVu2bBkhZOfOnb169VKr1e7u7h4eHhRFbdq0ad68eVFRUYQQuVx+4MCB0NBQnv4R7IkSxqQfAEGaM2eOpQuHWbQqpF6vLy8v5y47sqiwsrIylmW9vb0t2sqiI6rV6vDw8F27dnXs2LGystLsWLXtp6KiQqvVenh4GN9dDhw4sGvXrl27dpWXl7u7u5vN7DRSqVQGg8F0Q2cnkF8DABqAYZgGBDQhpMEdF5YeUavVurm5VR93rW0/7u7uZo/odLri4mKWZeuuubaRYeeFcAdwaC67ii9FUQMGDOCmMDaGn5/fwIEDuc53l4JuGQAAAXK5dzMAAFeAcAcAECCEOwCAACHcAQAECOEOACBACHcAAAFCuAMACBDCHQBAgBDuAAAChHAHABAghDsAgABh4TAAxzVnzhxLN7FoyV8QMIQ7gEO7fHlj/Z8cETHNepWAc0G3DACAAKHlDiBYd+/eLSkpqf54u3btGrBO+tOnT/Py8sLDwxuzNrpOp7ty5UrHjh2FcZ9SR4aWO4BgzZ8/P7Imt27dquceSkpKXnnllYsXLxJCTp48OXLkyLKyssaUpNFo3nzzzfoXAA2GcAcQrF27dj158kSlUm3YsEGhUNy9e/fp06dPnjzp2bNnPffw9OnTy5cvS6VSQohEIpFKpdXveGcRhmH8/PwEc59SR4ZwBxAsNzc37o7PXB+Ip6enu7u7h4dHZWXl0qVLZTKZTCZbs2aNTqfT6XTJyclJSUk6nY4Qcvv27cGDBx89enTy5MmEkJdffvnQoUOEEKVS+cUXXwQFBTVr1mzHjh0sy3IHOnXq1KBBg2Qy2RtvvJGZmck9qNPpvv3226CgIJlMlpSUpFQqucfVajX3xc2bN8eNG7d582bbviquAuEO4Fp0Ot3o0aO//vrr3bt3b926NTk5ed68eQzDvPHGG+vWrduzZ49Wq42Li3v8+PErr7wyZMgQQsiMGTPatm3Lbb569eq1a9fOmzcvMTHx+++/J4T8+OOPUVFR3bt3P3r0KE3TL7/8Mpfv8+fPnzVr1kcffXTgwIG9e/f26dPHOAAglUpzc3N79epF03RcXJydXgmBw4cjANeSlpaWnp6emZnZrl07QkhAQMCQIUNmz57dv3//BQsW/PnPf964ceO9e/cyMjLkcnl8fPzy5cvffvvt0NDQ27dvE0JOnDjRvXv3qKioioqKpUuXRkVFrVq1asaMGatWraIoqnfv3oMHD165cuXixYvXrVu3ffv28ePHE0LOnTvXsWPH1NTU6OhoqVR68uTJjRs3Tp48ec2aNeiisRK03AFcC9d8njhxYmxsbGxs7FtvvUUIefz4MSFk7ty5YWFhFy9e3LRpU3BwMCFEq9USk46U4ODgDh06cF8PHDiwvLy8vLy8uLg4JiaGoihCiFQqnTZt2oMHD7RarUKh4Br+hJCgoKDo6GiVSkUIEYlEH3zwQV5eXmxsLJLdevDKArgWLoVjY2PlcjnLsiNHjqQo6qWXXiKEVFVVcX3uRUVFtW2u1+u5L8RiMSGEYRhCiGlGe3h4cA+aHVQul3Nf63S6adOmZWdnx8fHX7lyBXMirQQtdwDXIhKJ5HL5n/70pylTpkydOvXVV1+9e/euVqtlWXbx4sVPnjyZNWvWe++9d+XKFfJ/UW7M7vLycmMr/vz5856entwUmlOnTnEPsiy7a9cuLseVSuW1a9e4x0tKSlJTUyUSCSFErVYnJiZu2bKlsLBwxYoVtv3tXQjCHcC1DBgwwM/Pb+zYsb/88ktWVtaYMWO2b9/epEmT48ePr1u3bv369StWrIiMjIyNjVWpVM2bN1coFAcPHrx79y4hRKlURkdH5+fnHzx4cOHChbNnz/bx8ZkyZconn3zyww8/FBYWfvbZZykpKYmJiW3bto2MjJw0aVJ6enpubm58fLxarTb20qjV6pYtW27YsGHVqlUZGRl2fT0EC90yAMLHdaFwvLy8UlJSxo8fz812j4iIOHz4sMFgeP/99+Pj40eMGEFR1Lp167p06bJx48akpKQxY8YsW7bMy8urQ4cOCoWiW7duHTt2JIQsXLgwISGBEDJjxgy9Xj916lRu/1u2bBk6dCghZPfu3fPmzRs0aBAhRKFQHDlyJDAwUK1WS6VS7qPAW2+9tW3btoSEhIsXL3JT6YFHVGVlpb1rAICazZkzx9KFw+q/KmRZWRnLst7e3i98ZlVVlem1S2VlZTRNe3p6mj6noqJCq9Vy0+obdhTgF1ruAC6q/iOZZlel1rihu7t7I48C/EK4Azg0rOILDYNuGQAAAcJsGQAAAUK4AwAIEMIdAECAEO4AAAKEcAcAECCEOwCAACHcAQAECOEOACBACHcAAAFCuAMACBDCHQBAgLBwGIDjmjNnjqWb1H/JXxA2hDuAQ9sYsqn+T56Wm2i9SsC5oFsGAECA0HIHELgnT55cunTp6dOnnp6enTt3btu2rfFHZrdYqg+dTnflypWOHTva+C4c58+fv3fvXrNmzbjfAvcAeSG03AGELC0t7aXsDiPnAAAgAElEQVSXXho7duzbb78dExMTFhZm7JQ/ePDgyJEj9Xq9RTvUaDRvvvnmrVu3rFBsrY4fPz548OC333771KlTgwYNsvHRnRTCHUCw1Gr13Llzp02b9ujRo8rKSpVKtW7dug8++CAzM5MQcuzYMR8fH5q2LAQYhvHz8zO7Uaq1qdXqfv36PX/+nLslt42P7qQQ7gCCpdfrdTpdSEgI14khEokmTJgwc+ZMT0/PY8eObd26NTU1NTo6ury8vKysbOnSpTKZTCaTjRkz5sKFC9wenj59unDhQplM1qxZs82bN+t0OkKIWq3mfnrz5s1x48Zt3rzZ7LjGrWQy2Zo1a6qqqtRqdWxs7NmzZ7knsCz7ySef/PDDD4SQe/fuJSQkyGSyoKCgo0ePck/YtGnTypUr33333WbNms2ZMycmJub8+fMDBw7Mzc01HkWn03377bdBQUEymSwpKUmpVGo0mhkzZhw6dIh7wjfffJOcnMzVfPv27WHDhpWWllrnlXZEeAMEECx3d/eePXvOnz8/IyPjrbfe6tKlS1BQ0KpVqwghFRUVCoWCEBITEyMWi+Pi4s6cOfPdd995eXnNmzdvwoQJN2/elEgk48ePv3nz5p49ex4/fjxr1iy9Xh8fH08IkUqlubm5vXr1GjVqVFxcnOlBnz9/PmLEiHv37u3Zs6e4uHj69OkXL17csmULIeSbb77p378/TdMPHjxYsWLFyZMnHzx40KlTp4iIiNTU1CtXrowbN+6HH34YM2ZMVlbWxo0bu3fv3qNHj379+lEUdeDAgbffftvHx8d4oPnz569bt+7LL79s1arVtGnTDh48eOnSJXd393379r3++utVVVU7duwoKiqaO3du8+bNDx8+rNfrPTw8bPn62xfCHUCwKIr66quvgoOD//rXvx44cIAQIpfLN2zYMG7cuC5dukyYMKGgoGD8+PFVVVXu7u6pqam9evUihOzcuXP48OEGg+HWrVvp6ekXL14MCwsjhDx79uzOnTsGg0EqlZ48eXLjxo2TJ09es2aNWSfJuXPnbty4ceXKlU6dOhFCmjdvPnbs2OTk5GnTpkVHRz9+/Njf3//06dPBwcERERFffvllcHDw6dOn3dzcBg0aRFHUokWLhg8fTggJDg4+ceKEXC4nhMhksuzs7NjY2JycHO4o+fn569at2759+/jx47mDduzYMTU1ddSoUfHx8eXl5c+ePbtx4wYhJDs7W6FQpKamTpkyxaX6c9AtAyBk7u7uH374YUlJyfXr1zds2ODn5zdx4sSDBw8SQliWNRgMLMtKJJItW7ao1erVq1dPmjQpIiKC2/bWrVsBAQGtW7fmvp07d+4XX3xB07RIJPrggw/y8vJiY2Orx2VFRUW/fv3at2/Pfdu/f//g4GCtVhseHu7n53fu3DmDwbBly5b4+HiZTPb48eO8vLy4uLjY2NjY2NiFCxeWlJSo1WqGYUJDQ40Nba1WyxVsPIpWq1UoFEOGDOG+DQoKio6OVqlUXbt2VSqVv/32282bN4cMGRIXF/ef//zn0aNH6enpffr0sdKL7Jhc6H0MwNXcvn37s88+W716taenZ/v27du3bx8TEzNixIi0tLTRo0cbn1ZRUTF06NDLly+/9tprI0aM6Nev39KlSwkhbm5uphMl9Xo9F686nW7atGnZ2dnx8fFXrlypPiuRYRiKooxfc194eHjExsbu3bs3LCwsPT197dq13ONcRnPjuqNHj6Zp2tLZmYQQiqK4Nn7Tpk1fffXVs2fP5ufnjx8/3s/Pb/PmzQEBAe3atTO+S7kItNwBBEur1f7www8///yz8RGxWCyRSLy9vVmWraiooGmaoqjffvvt8uXL+/btO3z48F/+8heuc4YQIpPJnjx5YhyE/O6777p27apWq9VqdWJi4pYtWwoLC1esWGF2UIqisrOzlUol9+0vv/ySl5fHfT169OiUlBSuG71du3aEEIZhfHx8pkyZMnXq1KlTp/r7+xcUFNTzt1MqldeuXeO+LikpSU1NlUgkFEXFx8cnJSWtXr06IiIiNDT06NGjf/7znxMSElyqT4Yg3AEErF27dn369ImJiVm4cOGZM2eOHTv2pz/96cyZMwMGDKAoKjw8/MKFC0eOHOEa13l5ecXFxefPn+/Xrx/Xs9G3b18/P79Zs2bduXPn/PnzCxcujImJkUqlhBC1Wt2yZcsNGzasWrUqIyPD9KD9+/cnhEyYMOH27dtXrlyJi4tr164d12vfoUMHrm8kMTGRi9pJkybdvXs3OTm5oKDgzJkzQ4cOvXPnjkwm42bfm/bDmAkJCYmMjJw0aVJ6enpubm58fLxareZ6abg3p4CAgMDAwObNm3OH5qpyKQh3AMGSSCQHDx5MSkpatWrViBEjxo4dm56efvjw4QEDBhBCwsPDlUrllClTmjZtumzZsuTk5ICAgLFjx27cuDE4ODgnJ8fLyyslJaWgoKBbt26DBw9+88033333XUKIVCrlovmtt97q06dPQkKCcXIkIcTPz+/EiRMqlap79+79+vXr1q3bqVOnxGIxIUQkEiUkJCgUCq4AQki3bt1SUlLWr1/foUOHESNGTJ48efny5RRFeXp6uru7G/t2jL0uxv3QNL179+7hw4cPGjSoc+fOV65cOXLkSGBgICEkKCioT58+gwcP9vT0lEqlQ4cODQ4O7tChgy1feUdAVVZW2rsGAKjZnDlzLF04rMZVIauqqrgz3dvbu7ZtKyoqtFqtl5eXMVKNSktLGYbx9PSsfyUWbaXX68vLyxtwCEJIWVkZy7J1/F4uy7U6oQBck9nQaI3c3d1r+1HDorP+WzEM0+B0xiIztUG4Azg0rOILDYNuGQAAAcKAKgCAACHcAQAECOEOACBACHcAAAFCuAMACBCmQjoZqiyfUhUQQijldUrz3zsPmH9blk+V5RNCyN4I811IJKyvL+vjQ3x8uC/2M390a9W8aVPWz49t1oy1/DoSAHA4mArpuChNKfUkk4tpLrvp+2kW76V6uFfTm1zQ/e/bfNu2bMuWhoAA9qWX2JdeYlu1Yps0qXWVDwBwQGi5OwpamUlU+bTSmOaZlKbENofWVfsz+PVX6tdfGdNHfH3ZkBC2bVtD27Zs+/aGNm2Q9QAODeFuT7QykypMo++n0ffP2SzKG+bZM+ryZery5f8O0vToYQgNNXTuzIaFGXx9kfUAjgXhbmuOFuiqNl1JTkM2vHqVvnr196xv3Zrt0cMwc3iKrPNwPosDgIZCuNuCowW6qUqpb+N3cu8ede8es0A0lpwi+jZRhjZvGAL6s16tGr9nAGgYhLsV0ffTmOyddE6KowW6KZWIh3AnhPxp4GXuCyYnhclJIYQYFN0MbaIMIVEGRVdeDgEA9Ydw5x+tzKSzdzA5Kb9PRnRspTQ/4R7he8zsEVp5nVZeJxeWsF6tDIGR+jZRhpAoXo4FAC+EcOcNVZZP56YwWTtp5XV712KBYpancBdtIrWMqlJl+UzWDiZrByvxMbSJ0nefhbY8gLUh3BuL0pTSuSlM1o6GTEJ3AEodD+HepUO5nH3xfY0pTQmX8gZFN31orKFTHCvBDXQArALh3nBcpnP9y87rURUP4R4ecMWi59PK6/TZ6+Rssj40Tt8p1hAY2fgaAMAUwt1ilKaUubaGubrGkYdJ6+9hZZPG7yTCq4HvcL9313i10vWYhYY8AI+w/IAFqLJ8Jnunk8X6i5Yf+JPv0bvPFI08yPlx7hKGhz8kNOQB+IKWe71QZfmijKVM1g57F8K//LLGttx7dHrGS7KT/2vIGwIjdS8vQMQDNAbC/QUEHOuEEIPcq0rFvPh5dQoPvMZLMUb0/TS3+2mIeIDGQLjXir6fJspY6qRzYOpJJ/clqsbuJMLrIB+1mEPEAzQGwr0GrhDrHI27TyP3IBaTntQ3vBRTI0Q8QMMg3P8HrcwUpSW7QqxzKiSNnQfZo9NTmjLwUkwdEPEAlkK4/47SlDIZS0RX19i7EJtq/MIyls5wbwwu4vVtonSRn2NVMoC64R6qhBDCZO9029LR1ZKd8LGwTE/Zd7xUUn9MTorb971FGUttfFwA5+Lq4U7fT3PbP0x8IsGZpq7zp5ELy7jL2O7MNr6KqT9KUyK6sESypaPrdKABWMp1w53SlIpPJrrtH+bKAdHIhWV6dCjiq5IGoMry3fYPEx+e4BSrbwLYmIuGO3NtjduWjkKdvV5/jVxYJqJFBl+VNBh6aQBq5HLhTt9Pc/u+t/hssmv2w5h50LiFZSI89vBVSWOglwagOhcKd0pTKkpLdts/zLnWW7eqAlXDW+7eXobO1A88FtNIXC+NKC3Z3oUAOARXCXdamSneP8wF58PUrTELy4S3f8BjJXwRXV3j9n1vWplp70IA7Mwlwp3J2iFGg70ag5e3ztDwP4Bw/ws8FsMjWnldvH8Ycw1v5ODSBB7u3JQY8clE9LBXp/Ns3Giqx26+KuEdpSkRn00WH55AaUrtXQuAfQg53Gllptv3L2NKTG3UjVhYxq+prr1hH4/FWAOTk+KGUVZwVYINd+baGrfvX8YM6Do0ZmGZ8DbO8cJSmhK3/cMwURJckADDndKUig9PEJ/FrIkXaMzCMuHNzvJYibWJLixx+7433unBpQgt3H/vinHym1bbRmMWlukp3cljJTZAK69jFg24FEGFO7piLNLghWVaNNe2pv7JbzE2QGlKMAYDrkM4S/6KTybivLVIgxeWCW+Tx28ltiQ+mUipCnQvL7B3IQDWJYSWO9fJjmS3VJGmgeEeoTjDayG2JrqwRHwyEbMkQdicPtwpTal4/zB0sjdAgxeWiZBu57cS2+Oua0O+g4A5d7hzyY5LTxvmt/KGtNyDAqsCDOd5L8b2aOV1t+9fxhArCJUThzutzHTb0hHJ3mD3ShvScg8PyeG9EnuhyvLFrr2gPwiYs4Y7txAYFhVoMIO3j4GlGrBhT59U3ouxI+4qJwzYgPA4ZbgzOSlI9kbSNnRhmQjxt/xW4ggw1QqEx/mmQjJZO8QnE+1dhdPTNGhhmbatKxT0Ld6LcQTcH5U+NM7ehQDww8la7sy1NUh2XjRsYZnwVsJMdg7a7yAkztRyx7nHIxXTkHCPaHKc90ocCtrvIBhO03IXXV2DZOdRSYMWlokQ/Z33ShwN2hAgDM4R7kzWDtwbk18NWFimU9vnPiTXGsU4GuQ7CIAThDuTk4J+dt491loc7uGtsqxRiWNCvoOzc/Rwp5WZIiS7FTyqsjjcI3yPWaMSh4V8B6fm0OGOK5WspwELy/TUr7BGJY5MfDIRyxaBk3LccOfWjUGyW0mByrKWe9cOJe6icisV48hEJxOx/gw4IwcNdyS7dVGUpQvLhAdes1ItDo7SlIgPT8D6keB0HDHcsdajtRm8Lb48taf3IWtU4hS49cWQ7+BcHDHcRScTkOxWZenCMjRNelJrrFSMU6CV1zEZF5yLw4U7hrBsQC2zrOXeI7RYRGutVIyzYLJ2iC4ssXcVAPXlWOGOy1Btw9KFZSICrlqpEuciyliKv09wFg4U7rQyE598bUMlsjDcvX6yUiVOR4zJM+AkHCXcuZtc27sKV1FCWRDuEgmJIC7d4W5GvH8YVZZv7yoAXsBRwl10MgEnjM1YtLBMeIci61XijChNifjwH+1dBcALOES4i66uwSCqLVm0sEx4i4vWq8RJ0crr4rPoQgSHZv9wR1e77RVpLAj3CM+91qvEeTHX1uDO2uDI7Bzu6Gq3i/ovLOPpyXald1q1GOclPvxHXNkEDsvO4S5KS0ZXu+3Vf2GZ8PYPrVqJU6M0JaKTCfauAqBm9gx3JmsHZg3bAU0XlNU33CP8L1i1FmfH5KSIrmIqETgiu4U7rcwUpc2z19FdmcHLgstTwz33WK8SYWAyluLTJzgg+4Q7pSkVnUzEoo92Uf+FZXx9DZ3Y3VYtRgAwMxIck33CXXRhCZYGsxe1e31b7uHtCq1aiWDQyutYdgYcjR3Cnb6fxlxDN6XdPHerf4d7ulUrERJRxlLMjASHYodwR1e7fdV/YZkI8WarViIwuI07OBRbh7vo6hp0yNhXPReWaa7QtaFPWbsYIaHK8tE5A47DpuFOaUqZjKW2PCJU99RQr3Dv0SbP2pUID3NtLWbOgIOwabiLzs7FDBm7U+rqFe4RirPWrkR4KE0J1tIAB2G7cKfvpzHZuJDd/uq5sExPKa4vawgmJwUjq+AIbBfuGEd1EIUVL15YJrCl9iWChGog/KmDI7BRuGMc1XHUZ2GZ8JBcG1QiVLTyOtYkALuzRbhjHNWBMMx91YsvYgr3+6cNahEwJmMpFowE+7JFuGMc1XHo67ewTE/pNmtXImyUpkR0dq69qwCXZvVwp5WZGEd1HPVZWCb4pUp/PRaDbCwmeydGVsGOrB7umBnmUNSyevTJtL5tg0pcgQi9kWA/1g13+n4aGi8OpaIeC8tENDlhg0pcAf7+wY6sG+5ouTiasnosLBMh/rsNKnEROAXAXqwY7mi2OKAXLizTPqSiKXXXNsW4ApwFYC9WDHe0WRzQCxeWCW+VbZtKXAdOBLALa4U7VZaPBosDeqx9QbhH+B6zTSWuA413sAtrhTvWPnVML1xYpqcIa7jzD413sD2rhDtVlo+57Y6p7oVlOrcvl7NYsZZ/9P00Wplp7yrAtVgl3NFsd1h1LywT0SrLZpW4GubqN/YuAVwL/+GOZrvjEokelHvX8fMIj702q8XVMNk7cR8PsCX+w53JwjrgDuqFC8v0pNfaphLXhE+0YEs8hzulKWWuISAcVN0Ly/To9EzCVNqsGBeExjvYEs/hzlz9BgtAOiy1tK6We3jgNZtV4rKYnBR7lwCugu9wR7PdgT2X1Dma6nXQZpW4LOYabuIBNsJnuDM5KWi2O7IyptZwF4lITwrTOawOF/eBzfAa7hhKdWx1LCwTHvqUpgy2LMZl4TQB2+At3ClNKZ2L/kSHVsfCMuEBV2xZiStjsnfiDnxgA7yFO51ziK9dgZUodbWGe4TsO1tW4uJwsoAN8BbuuHDJ8T1U1xzu7jK2B4ObptoO5h2ADfAT7hgmcgq1LSzTo0ORjStxcbTyOpaaAWvjJ9wxe9cp5JfV3HKPaJFh40oAS82AtfET7jT6ZByfWFz03KvGn2BJGdujcw/buwQQOB7CnVZm0srrjd8PWFVtC8t4exk6U9/buBigNCX4vAtWxUO4Y96uU6jyqLlPpkf7BzauBDiYMwNWxUfLHdPbnYFaVnPLPcL/go0rAQ56ZsCqGhvuTE4KFrpzCs/dahlN9dht40qAQ2lKMGcGrKex4Y6Pls5CVdPCMn5NDe0N+2xfDHBw+oD1NDrc8dHSSTyraWGZ8DZ5tq8EjHD6gPU0KtxpZSaWgXQWNS4sE644a/tKwIhWXkevJlhJ48IdV6U6j8faGi5P7SnDBQp2hpMIrATh7ioeqs1ny7Rorm1N/dMuxYARZruDlTQq3KnCc3zVAdZWfWEZdLg7AswkBitpeLijw9255JeZh3uE4ow9CgFzaLyDNTQi3NEn40TEbo8rPM0ei5Bst0stYAanElgDwt0lVF9YJiiwKoA9b5diwAyFpZnAChoe7uhwdyJVnubzIMNDcuxSCVRH41QCK2hguKPD3blUSs1b7hHeqXapBGqEz8HAu4aGO/4WnUr1hWV6un1rl0qgRlhkBniHcHcJKtH/hHvbVhUK+pa9ioHq0O0OvGtguKPD3bk8I/8T7uGtkeyOhXpyw94lgNA0JNzR4e50zBaWiWhy3F6VQI1o5XVKU2rvKkBQGhLuWOrI6ZgtLBMh+ru9KoHaoGcG+NWgcMdfobN5YLKwTKe2z31Irh2LgRphHAv4hZa7Syh8/t+We3irLDtWArXBhBngF8LdJZguLBPhe8yOlUBtqCcId+BTg8IdI/tOhXWTPKn0MH4bIdpkx2KgNmgzAb8sDndKU4qpMs7FdGGZrh1KPPT37VgM1AHd7sAjy8Mdo6nORuvx33mQ4YH45wNwCZaHOz48OptK2X9b7hHeh+xYCdQNLXfgEcJd+IwLy9A06UWtsW8xAGAbFoc7Jmw5nTLm93Dv0alYRFfZtxioA1ruwCPLZ8uoCqxQBliRcWGZ8MCr9q0EAGymAS13jMg5mSf638O9p9dP9q0E6oa7dgCPLAt3dLg7I25hGYmERBB0uAO4CoS78D1U+xBCenR6Yu9C4MXQ7Q58afg9VMFZ3K9oQgiJaP5vexcCALZjWbhjqowz4haWifDca+9C4MXQcge+WNhyx8IDzoaVSIsr3T092a70TnvXAgC2g24ZgeMWlglv/9DehQCATSHcBa7Kw5cQEu5/wd6FAIBNIdwFrlLqQwiJ8Nxj70KgXtDnDnzBgKrAPXfz9fU1dGJ327sQALApDKgKXBnjG96u0N5VAICtoVtG4J4R3wj/dHtXAQC2hnAXuCd63wjxZntXAQC2hnAXuMeVHm3oU/auAgBszcK1ZbDer7NhJTp7lwAWwMKQwBcsHCZwwc2z7V0CANgBumUErjPWcAdwSQh3gQsU4aIYAFeEcAcAECDLwp2VB1mpDgAgOMWAPxaGu1crK9UBAASnGPAH3TIAAAKEcAcAECCEOwCAAFkY7hIf65QBAISgzx34Y1m4GxRdrVQHABCEO/AH3TIAAAKEcAcAECCEOwCAAGFAFcCR4BQDnmBAFcCB4BQDvqBbBgBAgLC2DIADYRXd7F0CCATCHcCBsBJve5cAAmFxt4whoL816gAAnFzAI8v73DGaD2AlOLmAP5a33DGaD2AdOLmARxaHO7rdAawEJxfwCOEO4ChwcgGPLA93TNUCsA5DYKS9SwDhsDzcJd4Es7UAeIfTCnjVkCtUDX4Y9gHgGU4r4FdDwh09gwC8w2kF/EK4AzgEnFbArwaFO8ZUAfiG0wr4hZY7gEPAFUzArwYNqCq6YmQfgEesPAhtJuBXA9dzNwRgQi4AbzDDHXjX0HDH3yIAf3BCAe8Q7gD2hxMKeNfQcEe3OwBP0OEO1tDwe6ii2x2AF2i2gzU0ItzxFwnAB5xKYA0IdwA7w6kE1tCIcEe3O0CjocMdrKTh4U7Q7Q7QaGi2g5U0LtzxdwnQODiJwEoQ7gD2hJMIrKRx4Y5ud4BGQIc7WE+jwp0Qog+J4qUOABeEZjtYT6PDPTSOlzoAXBBOH7Cexoa7ITCSlQfxUgqAS2HlQWi5g/U0NtwJIYY2bzR+JwCuBicOWBUP4Y6PlgANgBMHrIqPlruiK+uHO4QBWID164r76oFV8RDuBG0QAAvhlAFr4ync22BCJIAFcMqAtfET7qxXK0NAf152BSB4hoD+uHYJrI2fcCf4mAlQbzhZwAZ4C3fM6wKoJ5wsYAO8hTsr8TZgKQKAF9F3imWxIhNYH2/hTvBhE6Ae0GwH2+A13NtEYZFIgLpIvDFPBmyDz3AnhOi6z+J3hwBCghMEbIbncNf3eAeNd4CaSbz1Pd6xdxHgKngOd1bijbYJQI103WdhKBVshudwJxhWBagFmu1gS/yHO+vVSt8plvfdAjg1zIAEG+M/3Akhut4LrbFbAOeFkwJszCrhjsY7gCl9p1gsJgM2ZpVwJ2inAJjA6QC2Z61wxzqRABxDSBSa7WB71gp3gtYKACGEEF0PTA4GO7BiuBsCI9F4BxdnCOhvCIy0dxXgiqwY7gSNd3B5OAXAXqwb7mi8gytDsx3syLrhTgjRDVhp7UMAOCb88YMdWT3cDYqueqw2A65H332WQdHV3lWA66IqKyutfgxNqWRLB6IptfaBAByFxFsz5TbWGwA7snrLnRDCSry1kZ/b4EAADkIb+TmSHezLFuFOCNGHxmFkFVyEIaA/1kYFu7NRuBMMLoHLwJ86OALbhTtGVsEVYBwVHIQtBlT/ezCMrIKwYRwVHIbtWu4EI6sgdBhHBcdh03AnGFkF4cI4KjgUW4c7wXATCBT+sMGh2CHcMbIKwoNxVHA0dgh3Qoiu90LWD2cCCATr1xWrP4KjsU+4sxJv7dDNBENPIAASb+3QzRhHBUdjn3AnhBgUXTFzBgRAG/k5OmTAAdkt3Akh+tA4fadYOxYA0Ej6TrGYIQOOyZ7hTgjRDViJzndwUqxfV8yQAYdl53D/vfMdwOmgqx0cm53DnRBiUHTVofMdnI3u5YXoagdHZv9wJ4ToeswyhETZuwqA+jKEROl64FoNcGgOEe6EEO3Qzaw8yN5VALwYKw9CXyI4PkcJd1birY3aa+8qAF5MG7UXXe3g+Bwl3Ak638EZ6DCrHZyEA4U7IUTXYxZmvoPD0neKRVc7OAvHCndCiHboZgyuggPSd4pFVzs4EYcLd8INruLKJnAkuF4JnI4jhjsr8a568wTyHRwE69e16s0TGEQF52LTe6haBDdcBYeA26KCc3LEljuHlXhXRZ/AssBgTxLvqmi02cEpOW64E0IMiq7Id7AbiXdV9AlMfAQn5dDhTrhl34dgigLYgXbIZiQ7OC9HD3dCiL5NlHbIJntXAa5FO2STvg2m5IITc4JwJ4ToQ+Nw8SrYjHbIJtyCA5ydc4Q7wcWrYCu4uRIIg+NOhawRk7VDfDLR3lWAYKHNDoLhNC13jj40Dv3vYCVIdhASJ2u5c5icFPHJBFzfBLyReGuHbMYIKgiJU4Y7IYRWZrrtH4p8Bx5gPjsIkZN1yxjh+ibgBSsPQrKDIDlry51DaUrd9g2lnmTauxBwSlgRDATMWVvuHKwfCQ2GZAdhc+5wJ/+X77i/B1hE3ykWyQ7C5tzdMqbEJxKY7J32rgKcAO6pBK5AOOFOCBFdXSNKS7Z3FeDQdJGf4z6o4AoEFe6EEFqZKU4ZT6kK7F0IOBxWHqSN2ouJMeAihBbuhBBKUyo+kUDnpti7EHAghpAo7dDN6GQH1yHAcOegiwZ+J/HWvbwQXTHgagQb7oTrojmRgFnwroz166odintugCsScrgTQihNqejsXPBLjWsAAAhxSURBVMyicU36TrG6ASvRFQOuSeDhzmGydojTkrEQjQuReGsjP8cSj+DKXCLcCbpoXAm6YgCI64Q74bpoLixhrq2xdyFgRfrus3S9F6IrBsCFwp1DKzNFZ+fShefsXQjwzBDQXzdgJRrsAByXC3cOeuEFBT3sANW4aLgT9NIIBfphAGrkuuHOQS+N80I/DEAdXD3cOeilcTLohwF4EYT779BL4yzQDwNQHwj3/4FeGkeGfhiA+kO414C+nya6sAQR7zgMAf11vRcaAiPtXQiA00C41woR7wgMIVG6HrMQ6wCWQri/AFWWL7qwBEuP2Z6+U6yu90LWq5W9CwFwSgj3ekHE2xJiHaDxEO4WoMrymawdomtrMGnSKiTeuu6z9D3ewUwYgMZDuFuM0pQyV79BxPMJsQ7AN4R7wzE5KUzWDtystTEMIVH60Dh9myh7FwIgNAj3xqI0pXTOISZrB+bV1J8hoL8+NM7Q5g001QGsBOHOG6osn2vL45YgtWH9unLtdAyWAlgbwp1/tDKTydpB5xyiVAX2rsUhsPIgQ5s39KFxuLgUwGYQ7lZE309jsnbQ99NcM+VZeZAhMFIfGodLkABsD+FuC1RZPn0/jftP2EHPBTr3H/peAOwI4W5rXNAzOSl0YZowJlMi0AEcEMLdnmhl5u8teqcLeom3PiQKgQ7gsBDujoJWZlJl+ZTyOlWWT5Xl008yHSjuJd4Gv66sVyvWqxWr6MZ6tcLQKICDQ7g7LkpT+t+sV2YSTYltptIbAvoTiY9BYZLmmI0O4GwQ7k6Gy3pCCBf31R//77cmI7esPMi084RL7f/uVOLDtcTNHwcAp4VwBwAQINreBQAAAP8Q7gAAAoRwBwAQIIQ7AIAAIdwBAAQI4Q4AIEAIdwAAAUK4AwAIEMIdAECAEO4AAAKEcAcAECCEOwCAACHcAQAECOEOACBACHcAAAFCuAMACJCI+z+NRqPRaLivvby86rNlWVlZQUGBRqNxc3Pz9fWVSCQSiaT+mwMAgPWICCEajeb8+fMHDx4khAQFBSUkJLwwoJVK5ZIlSy5fvvzGG2/s3LkzICBArVaHhoaGhITUZ3MAALCq31vupaWlkydP9vPz+/zzzx8+fFhUVOTm5mZ8koeHB/fF8+fPq6qqCCFZWVmVlZW7du2iaXrAgAF+fn737t1r27btypUrjZt7eHhIJBJj0JeVlalUKq1WKxaL5XI5IcT0W41GU1VV9fz5c7Pjmu4BAADq6feW+507d7Kzszt16nT06NH09PSioiKGYWiaJoTQNN2qVavAwMBnz57dvXtXpVKJxWK9Xp+YmEgIGTlyZHJysre39+7du4cNG3bkyJH09PRHjx6JRKLWrVsPHz586tSpCoXi5s2ba9euvXjxolKp9PPzCwkJYVk2Ly9PqVQ2adKkU6dOFEXl5uYWFhaaHrd169ZDhw6dMWMG8h0AwCIi41e9evUKDAyMjIxcvHgxy7IikejZs2cymUwqlapUqiFDhnz//fchISEGg4Gm6aKiIoVCQdP0nj17srOzKYqKjIwMDQ0dMGCAcXOVSvXuu+8GBwcPHDhw7dq13bp1+/DDDxmGYVn22LFjOp1u5MiR3Lfnz58/ffr0vn37zI5bXl4+Y8aMUaNGdenSxY6vEQCA0/l9tsyDBw90Oh3DMCqViqbp7du3r1y50tfX99ixY6tWrZLL5bNnzw4ODt67d2/Pnj0rKipEItGxY8cMBkN0dLRWq2VZlqIohmHKyspomt67d29ERIS7u3tycvLx48eLi4t/+eWXkSNH3r9/v2PHjg8ePOjVq9eIESPu3bvXsWPHa9eu9evXj3vPMDuup6fnoEGD7t+/bxzsBQCA+vg93A0Gg16vJ4R4e3vr9foDBw4UFxfr9fo9e/Y8fvyYZdnQ0FCDwbBmzRqdTqdUKimKYlmWEMIwjFgsJoSwLMuyrI+Pj8Fg+O6777RabVFRUfPmzXNycm7dulVcXMyy7KlTp3x8fMaOHfv//t//Yxjmp59+UigUa9eupSiqZ8+eNR7Xzc3t8ePHdnyBAACc0e/hTtM0RVGEEIqiKIqSy+X+/v5cXnMTHH/99VeapufMmSMSifz8/AghEomEoiiaprltOVwTfsCAAWKx2N/f/+HDh+Xl5QzDGAwGlmX79+9fUlKya9euFStWGAyGYcOGKZXK+Ph4QkheXl6Nx+WqAgAAi9CEEIlE0r59e7lczjBM06ZNCSEtW7b09/enaTowMLBly5aEEKVSeenSpXHjxl26dMnDw6O0tFQsFrMs26xZM25Db29vhmEqKiooikpKSrp8+bJarf7mm2+mT58eHh4+b96806dPt2/f/tatWyEhIVwne5cuXW7dutW/f/+bN29yg6jVj9ukSZNmzZrZ9SUCAHA+VGVlpXGee2VlZV5eXmhoKPczkUik0+mqqqrKysrkcnlSUtJnn322e/fuK1eu5OTkJCUlde3alaIoLy+vp0+fKpVKX1/fkJCQ2bNnDxs2rH///tnZ2X369KmoqDAYDGVlZVVVVdnZ2WPHjj1y5EizZs1oms7Ly4uOjk5JSQkKCpLJZP7+/mbHNRgMbm5u77zzTvv27e33EgEAOB+qsrKSmFyhqtFouP4QUw8fPpw3b96KFSu4+elarXbRokWvvvrq66+/TgiRSCTc5rdv387KyhozZsxHH300ZcqUkJCQJk2aGHei0WgePXrETWz38fEhhJSUlHDfNm/enNtPjSViHiQAgKV+nwppXDygNpGRkdOnT2/Xrp1IJLp06RKX7AqFwvQ5FEUdP378m2++CQ4ODgsLM/spIcTskcDAQD5+BQAAMPd7y/2FNBrNw4cPnz17VlVV5evr6+/vX2ODuqysjPsCzW0AADv6/+UdlvbYYfJ5AAAAAElFTkSuQmCC)"
      ],
      "metadata": {
        "id": "EBeyy9jjEO_a"
      }
    },
    {
      "cell_type": "markdown",
      "source": [
        "## Level 1: Variables\n",
        "\n"
      ],
      "metadata": {
        "id": "237t-EpIeihX"
      }
    },
    {
      "cell_type": "markdown",
      "source": [
        "**Summary**\n",
        "\n",
        "- Save values by assigning them to a variable -> a case-sensitive name\n",
        "- Call up saved values through the same variable name\n",
        "- Different data types:\n",
        "            \n",
        "    -Int, or integer: a number without a fractional part (e.g. 23)\n",
        "\n",
        "    -Float, or floating point: a number that has both an integer and fractional part, seperated by a point (e.g. 1.1)\n",
        "\n",
        "    -Str, or string: a type to represent text. You can use single or double quotes to build a string\n",
        "\n",
        "    -Bool, or boolean: a type to represent logical values (TRUE, FALSE)\n",
        "\n",
        "- To check the dataype of a variable, use the  **type()** function\n",
        "\n",
        "- To convert a variable to another datatype, use\n",
        "\n",
        "    - int()\n",
        "    - float()\n",
        "    - str()\n",
        "    - bool()\n",
        "  \n",
        "\n",
        "- Different data types=Different behaviour\n",
        "\n",
        "    -Int + Int= Int : 2+3=5\n",
        "\n",
        "    -Str + Str= Str: \"ab\" + \"cd\"= \"abcd\"\n",
        "\n",
        "\n",
        "\n",
        "- Exponentials in Python: x^2= x**2\n",
        "\n",
        "- To print the value of a variable, use the **print()** function\n",
        "\n",
        "    \n"
      ],
      "metadata": {
        "id": "NQD6QsVyhWqB"
      }
    },
    {
      "cell_type": "markdown",
      "source": [
        "**Exercise 1**"
      ],
      "metadata": {
        "id": "6svaO27qelZ_"
      }
    },
    {
      "cell_type": "markdown",
      "source": [
        "Suppose you have $1000, which you can invest with a 10% return each year. After one year, you receive 1000 * 1.1 dollars, after two years 1000 * 1.1 * 1.1, etc. Use python to facilitate the calculations of the yearly result.\n",
        "\n",
        "1.   Create a variable  *Savings* equal to 1000.\n",
        "2.   Create a variable *Growth_Multiplier* equal to 1.1\n",
        "3.   Create a variable, *result*, equal to the amount of money you saved after 7 years. Make sure to use the variable Savings and Growth_Multiplier to compute the result.\n",
        "\n",
        "Print out the value of the result.\n",
        "\n",
        "\n",
        "\n",
        "\n",
        "\n"
      ],
      "metadata": {
        "id": "2d7hTMgKm9fl"
      }
    },
    {
      "cell_type": "code",
      "source": [],
      "metadata": {
        "id": "qDG94VcP78yD"
      },
      "execution_count": null,
      "outputs": []
    },
    {
      "cell_type": "markdown",
      "source": [
        "**Exercise 2**\n",
        "\n",
        "\n",
        "Using the \"+\" operator to paste together two strings can be very useful in building custom messages. For example, now you've calculated the return on your investment in exercise 1, you can summarize the results in a string.\n",
        "In particular, you could try something like this:\n",
        "\n",
        "\n",
        "print(\"I started with \" + Savings + \" and now have \" + result + \". Awesome!\")\n",
        "\n",
        "But this will not work.\n",
        "\n",
        "\n",
        "1.    Copy and paste this statement in the code environment below, do you understand the error?\n",
        "2.    Print the datatypes of the variables Savings, Result and the word \"Awesome\"\n",
        "3.    Adapt the code to let the error disappear"
      ],
      "metadata": {
        "id": "kDxo44Uh6adJ"
      }
    },
    {
      "cell_type": "code",
      "source": [],
      "metadata": {
        "id": "6h6bNnFYyRMf"
      },
      "execution_count": null,
      "outputs": []
    },
    {
      "cell_type": "code",
      "source": [
        "\n",
        "\n"
      ],
      "metadata": {
        "id": "sV8Gjvtm9hUp"
      },
      "execution_count": null,
      "outputs": []
    },
    {
      "cell_type": "code",
      "source": [],
      "metadata": {
        "id": "dSzXbXjFuuQF"
      },
      "execution_count": null,
      "outputs": []
    },
    {
      "cell_type": "markdown",
      "source": [
        "**Exercise 3**"
      ],
      "metadata": {
        "id": "-BwPx3FsBtqN"
      }
    },
    {
      "cell_type": "markdown",
      "source": [
        "In order to assign a value to a variable, we use the \"=\" operator. However, you will also need the \"==\" statement, which has a completely other meaning!\n",
        "\n",
        "1. Print the **datatype** of the follwing statement: Savings==1000. Do you understand what \"==\" means?\n",
        "\n",
        "2. Which **output** do you expect for the following statement: result==1000 ?\n",
        "Print it to see if you got it right.\n",
        "\n",
        "3. Use the \"==\" and the \"if\" statement to provide a script that only multiplies Savings and Growth_Multiplier if Savings is equal to 1000. Save the resulting variable as result_if.\n",
        "\n",
        "\n"
      ],
      "metadata": {
        "id": "JSFpHUnYDaO-"
      }
    },
    {
      "cell_type": "code",
      "source": [],
      "metadata": {
        "id": "myCmx2FZESwF"
      },
      "execution_count": null,
      "outputs": []
    },
    {
      "cell_type": "markdown",
      "source": [
        "## Level 2: Lists\n",
        "\n",
        "**Summary**\n",
        "\n",
        "- Lists may contain lists: fam= [[member1, 23],[member2, 25],[member3, 25]]\n",
        "\n",
        "- Empty list: List=[ ]\n",
        "\n",
        "- In order to select an element from a list, use: List[position of element]\n",
        "\n",
        "- In order to select a sublist from a list, use: List[start position: end position] (end position is exclusive)\n",
        "\n",
        "- Select everything up to a certain position i: List[:i]\n",
        "\n",
        "- Select everything starting from position i up to the end: List[i:]\n",
        "\n",
        "- To iterate through a list, use \"for\" statements-> for i in list:\n",
        "\n",
        "\n",
        "\n"
      ],
      "metadata": {
        "id": "3kJJHeEpQgVc"
      }
    },
    {
      "cell_type": "markdown",
      "source": [
        "**Exercise 4**"
      ],
      "metadata": {
        "id": "OdpnpDC-QrGv"
      }
    },
    {
      "cell_type": "markdown",
      "source": [
        "Consider the list L1, defined below. Select the following values/sublists:\n",
        "\n",
        "\n",
        "\n",
        "1.   Select the sublist [\"Dingo\", 22] and assign it to the variable **member1**. Print the value of the variable member 1.\n",
        "2.   Select the string \"Golden retriever\" (no number) and assign it to the variable **dog**.  Print the value of the variable dog.\n",
        "3.   Create a new list, L2, that contains the sublists [\"Golden retriever\", 23],[\"Dolphin\",24], [\"Dingo\", 22]. Print the new list.\n",
        "4.   Create a new list, L3, that only contains the integer variables (23,24,22,24,20). Print the new list. (Hint: FOR loop)\n",
        "\n"
      ],
      "metadata": {
        "id": "gRlEtzVYQwoX"
      }
    },
    {
      "cell_type": "code",
      "source": [
        "L1=[[\"Golden retriever\", 23],[\"Dolphin\",24], [\"Dingo\", 22],  [\"Orangutan\", 24], [\"seahorse\", 20]]\n"
      ],
      "metadata": {
        "id": "zYgaurYmi9Hb"
      },
      "execution_count": null,
      "outputs": []
    },
    {
      "cell_type": "markdown",
      "source": [
        "**Exercise 5**\n",
        "\n",
        "1. Create an empty list called \"L4\".\n",
        "2. Use a for loop that iterates through the  **numbers** list.\n",
        "3. In each iteration, make sure to calculate the square of the current number and add it to the L4 list using the .append() method  (L4.append()).\n",
        "4. Print the new L4 list.\n"
      ],
      "metadata": {
        "id": "MBK03IbOn3NI"
      }
    },
    {
      "cell_type": "code",
      "source": [
        "numbers= [1, 2, 3, 4, 5, 6, 7]\n",
        "\n",
        "\n"
      ],
      "metadata": {
        "id": "NJfc5Ib0pXXy"
      },
      "execution_count": null,
      "outputs": []
    },
    {
      "cell_type": "markdown",
      "source": [
        "**Exercise 6**\n",
        "\n",
        "1. Construct a new list, L5, that contains the same numbers as the **numbers** list in exercise 5 but switch the positions of the first and last elements in L5, i.e., (1,7) are switched. Print L5 to check if you did it correctly.\n",
        "\n",
        "3. Will the values in the original **numbers** list change? Check this by printing the **numbers** list."
      ],
      "metadata": {
        "id": "nj7jckWPsIlS"
      }
    },
    {
      "cell_type": "code",
      "source": [
        "\n",
        "\n",
        "\n"
      ],
      "metadata": {
        "id": "fztfeH1puBgq"
      },
      "execution_count": null,
      "outputs": []
    },
    {
      "cell_type": "markdown",
      "source": [
        "**Exercise 7**\n",
        "\n",
        "Consider the lists L6 and L7.\n",
        "\n",
        "1. Add the sublist [\"Nirvana\", 3] to L6.\n",
        "\n",
        "2. Multiply the numbers from L6 with the numbers from L7, what do you expect as a result? Make sure to multiply the numbers in pairs, e.g. 5*27, 4*30,...Assign the result to a new list L8 and print it."
      ],
      "metadata": {
        "id": "Cx6SYeIiyHwS"
      }
    },
    {
      "cell_type": "code",
      "source": [
        "L6=[[\"Deep Purple\", 5], [\"The Beatles\", 4], [\"Guns and Roses\", 5]]\n",
        "L7= [27, 30, 40,60]\n",
        "\n",
        "\n"
      ],
      "metadata": {
        "id": "VQLKssUwzD03"
      },
      "execution_count": null,
      "outputs": []
    },
    {
      "cell_type": "markdown",
      "source": [
        "## Level 3: Functions\n",
        "\n",
        "**Summary**\n",
        "\n",
        "\n",
        "* The keyword \"def\" introduces a function \\\\\n",
        "* The keyword \"def\" must be followed by the function name and the list of formal parameters \\\\\n",
        "* The statements forming the body of the function start at the next line and must be intented to the right \\\\\n",
        "* The keyword \"return\" is used to determine which value must be returned when the function is called for a specific value of the parameter(s)\n"
      ],
      "metadata": {
        "id": "l4w0o_z_1wbp"
      }
    },
    {
      "cell_type": "code",
      "source": [
        "# An example\n",
        "\n",
        "def function(parameter):\n",
        "  #body of the code\n",
        "  return parameter**2\n",
        "\n",
        "\n",
        "function(4)\n"
      ],
      "metadata": {
        "colab": {
          "base_uri": "https://localhost:8080/"
        },
        "id": "CYb0ImOy4L5S",
        "outputId": "ae85d809-9bf1-42cd-bca9-1d56696f1578"
      },
      "execution_count": null,
      "outputs": [
        {
          "output_type": "execute_result",
          "data": {
            "text/plain": [
              "16"
            ]
          },
          "metadata": {},
          "execution_count": 67
        }
      ]
    },
    {
      "cell_type": "markdown",
      "source": [
        "**Exercise 8**\n",
        "\n",
        "Write a program to create a function that takes two arguments; name and age, and prints their value. Call the function for your own name and age."
      ],
      "metadata": {
        "id": "H02JhEhM7JRp"
      }
    },
    {
      "cell_type": "code",
      "source": [],
      "metadata": {
        "id": "NUsP_8rR7u1F"
      },
      "execution_count": null,
      "outputs": []
    },
    {
      "cell_type": "markdown",
      "source": [
        "**Exercise 9**\n",
        "\n",
        "Build a function *myEvenSum* with one parameter: a list. When the function receives a list as an argument, it computes the sum of all even numbers within that list. When the function has iterated through the list completely, the final sum is printed.\n",
        "\n",
        "Call this function for the list L8, which contains the numbers: 8, 13, 12, 9, 17, 21 and call the result \"L8sum\". Did you obtain the expected output?"
      ],
      "metadata": {
        "id": "0m_mTxAZ9Kdt"
      }
    },
    {
      "cell_type": "code",
      "source": [
        "\n"
      ],
      "metadata": {
        "id": "NtWRi3Jb9dwN"
      },
      "execution_count": null,
      "outputs": []
    },
    {
      "cell_type": "markdown",
      "source": [
        "**Exercise 10**\n",
        "\n",
        "Build a function *mySwitch* that contains three parameters: a list and 2 indices. The function needs to switch the values of the list, placed at the positions given by these two indices. As an example, if I have the list=[1, 2, 3] and I call mySwitch(list, 1, 2), the output should yield [1,3,2].\n",
        "\n",
        "Call the function for the list L9, which contains the numbers: 8, 13, 12, 9, 17, 21 and the indices chosen such that the positions of the values 8 and 17 are switched. Run your code and check if it corresponds to [17, 13, 12, 9, 8, 21].  "
      ],
      "metadata": {
        "id": "HeuH7whw-m30"
      }
    },
    {
      "cell_type": "code",
      "source": [],
      "metadata": {
        "id": "-D5yX2j4-yus"
      },
      "execution_count": null,
      "outputs": []
    },
    {
      "cell_type": "markdown",
      "source": [
        "Next to functions, Python also provides built-in *methods*. Methods are functions that belong to objects. Every object (i.e. everything in Python) has such methods associated to it. Which methods, depend on the type of object we are dealing with.\n",
        "\n",
        "Examples:\n",
        "\n",
        "\n",
        "*  object.replace(oldvalue , newvalue)\n",
        "*  object.index(\"mom\")\n",
        "*  object. append(newvalue)\n",
        "\n",
        "\n",
        "Basic methods for each variable type:\n",
        "\n",
        "![tablee.PNG](data:image/png;base64,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)\n",
        "\n",
        "\n"
      ],
      "metadata": {
        "id": "QBvEC56P_v8p"
      }
    },
    {
      "cell_type": "markdown",
      "source": [
        "**Exercise 11**\n",
        "\n",
        "Consider the list L10 and the variable 'coursename'. Try to use each of the methods (.replace(), .index(), .append) on these predefined functions.\n",
        "\n",
        "1. Replace the value of the variable 'coursename' with \"FODS\". Print the resulting coursename.  \n",
        "2. Find and print the index of \"HOC\" in the L10 list.\n",
        "3. Add the value \"Exam\" to the L10 list. Print the resulting list.\n",
        "4. Repeat step 3 for the variable 'coursename'. What happens?\n"
      ],
      "metadata": {
        "id": "5uGJSUCiBhy8"
      }
    },
    {
      "cell_type": "code",
      "source": [
        "L10=[\"WPO\", \"Exercises\", \"Homework\", \"HOC\"]\n",
        "coursename=\"FOD\"\n",
        "\n"
      ],
      "metadata": {
        "id": "1WpCqIPRCBzs"
      },
      "execution_count": null,
      "outputs": []
    },
    {
      "cell_type": "markdown",
      "source": [
        "## Level 4: Packages\n",
        "\n",
        "**Summary**\n",
        "\n",
        "- Modular programming refers to the process of breaking a large, unwieldy programming task into seperate, smaller, more manageable subtasks or modules. Individual modules can then be cobbled together like building blocks to create a larger application\n",
        "\n",
        "- Packages = directory of Python modules\n",
        "\n",
        "- Modules = contain specific functions, methods and types\n",
        "\n",
        "- Thousands of packages available: FODS-> Numpy, Matplotlib, sci-kit learn, ..\n",
        "\n",
        "- Import package: import .... as  ....\n",
        "\n",
        "- Use functions/methods/objects from package: from ... import ..."
      ],
      "metadata": {
        "id": "hr8cLNMsFIi0"
      }
    },
    {
      "cell_type": "markdown",
      "source": [
        "## Exercise 12\n",
        "\n",
        "Now you are familiar with the basics of Python, it is time to become familiar with the broader spectrum of tools provided by Python. As in real life, no one will explain every function/object to you, it is important to get familiar with Python documentation and explore packages yourself. Instead of explaining to you how everything works, you will need to look it up yourself.\n",
        "\n",
        "The first package we encounter is Matplotlib, documentation: https://matplotlib.org/stable/tutorials/index\n",
        "\n",
        "\n",
        "\n",
        "1.   Start by importing matplotlib.pyplot and name it as plt\n",
        "2.   Create Figure and Axes object using the subplots function\n",
        "3.   Use the show function to show the results, you should see an empty set of axes.\n",
        "\n"
      ],
      "metadata": {
        "id": "4xLLdOpvvwFY"
      }
    },
    {
      "cell_type": "code",
      "source": [],
      "metadata": {
        "id": "swFdg-2p1Jns"
      },
      "execution_count": null,
      "outputs": []
    },
    {
      "cell_type": "markdown",
      "source": [
        "## Exercise 13\n",
        "\n",
        "In order to visualize data, we first need to load a data set. HINT: write the code for each sub exercise in a different code environment.\n",
        "\n",
        "1.  On Canvas> FODS> Modules > WPO 1 you find a csv. data file containing information about the weather in Seattle, download it and save it on your computer.\n",
        "\n",
        "2. In order to read the uploaded file, we need to import a new package named pandas. Import this package and name it \"pd\"\n",
        "\n",
        "3. Use the convenient function from pandas to read a csv file. You should see a table with 5 coloms and 25551 rows. Save the result as a variable with the name \"dataframe\"\n",
        "\n",
        "4. Print the \"TMAX\" column\n",
        "\n",
        "4. Print the first twelve values of the \"TMAX\" column\n",
        "\n",
        "5. Explore the different dataframe methods: print the shape, the headers and the description of the dataframe"
      ],
      "metadata": {
        "id": "YWdYg7Ku2X22"
      }
    },
    {
      "cell_type": "code",
      "source": [
        "# 1"
      ],
      "metadata": {
        "id": "6TuMVJd26mWQ"
      },
      "execution_count": null,
      "outputs": []
    },
    {
      "cell_type": "code",
      "source": [
        "# 2\n",
        "\n"
      ],
      "metadata": {
        "id": "Ockw1xep7YXp"
      },
      "execution_count": null,
      "outputs": []
    },
    {
      "cell_type": "code",
      "source": [
        "\n",
        "# 3\n",
        "\n"
      ],
      "metadata": {
        "id": "16mGHSwnGuQy"
      },
      "execution_count": null,
      "outputs": []
    },
    {
      "cell_type": "code",
      "source": [
        "# 4"
      ],
      "metadata": {
        "id": "r7A8jAFiGxC_"
      },
      "execution_count": null,
      "outputs": []
    },
    {
      "cell_type": "code",
      "source": [
        "# 5"
      ],
      "metadata": {
        "id": "0hKFUJwWiTIX"
      },
      "execution_count": null,
      "outputs": []
    },
    {
      "cell_type": "code",
      "source": [
        "# 6"
      ],
      "metadata": {
        "id": "19N4vHVLiRwV"
      },
      "execution_count": null,
      "outputs": []
    },
    {
      "cell_type": "markdown",
      "source": [
        "## Exercise 14\n",
        "\n",
        "At this point, you imported all the necessary packages to start visualizing data.\n",
        "\n",
        "1. Create a 'weather'-figure and axes and plot the first 12 values of 'DATE' colomn against the first 12 values of the 'TMAX' column'\n",
        "\n",
        "2. What do you see?\n",
        "\n",
        "3. The x-axes is unreadable due to the long dates. Make a list of the twelve months in 1948 and exchange the 'DATE' colomn on the plot with this new list.\n",
        "\n",
        "4. Now, plot a boxplot of the columns \"TMAX\", \"TMIN\" and \"PRCP\" and give the plot a title \"BOX plot with outliers\". Boxplot is a function of the seaborn package.\n"
      ],
      "metadata": {
        "id": "5QVMg3Of_WWf"
      }
    },
    {
      "cell_type": "code",
      "source": [
        "#14.1"
      ],
      "metadata": {
        "id": "duNLqnhiAKtP"
      },
      "execution_count": null,
      "outputs": []
    },
    {
      "cell_type": "code",
      "source": [
        "#14.2"
      ],
      "metadata": {
        "id": "hKBFC2s-JDCY"
      },
      "execution_count": null,
      "outputs": []
    },
    {
      "cell_type": "code",
      "source": [
        "#14.3"
      ],
      "metadata": {
        "id": "Xrc9qCbnhKbj"
      },
      "execution_count": null,
      "outputs": []
    },
    {
      "cell_type": "code",
      "source": [
        "#14.4"
      ],
      "metadata": {
        "id": "DydLV_HZhK2n"
      },
      "execution_count": null,
      "outputs": []
    },
    {
      "cell_type": "markdown",
      "source": [
        "## Exercise 15\n",
        "\n",
        "Compare the precipitation in Seattle in 1948 with the precipitation in 2017 with the use of subplots. For the plot of 1948, use a blue color and '--' linestyle while for 2017 use a red color with \"v\" markers.\n",
        "Add titles and name the axes!"
      ],
      "metadata": {
        "id": "vAuxLOqjJEMA"
      }
    },
    {
      "cell_type": "code",
      "source": [],
      "metadata": {
        "id": "SIKKX76rKEcc"
      },
      "execution_count": null,
      "outputs": []
    },
    {
      "cell_type": "markdown",
      "source": [
        "As you can see, the titles are not written in a clear way. Try to solve this by changing the shape of the figure."
      ],
      "metadata": {
        "id": "HVxSNvnzaXxx"
      }
    },
    {
      "cell_type": "code",
      "source": [],
      "metadata": {
        "id": "6RGpL_NKhI_o"
      },
      "execution_count": null,
      "outputs": []
    },
    {
      "cell_type": "markdown",
      "source": [
        "##  Exercise 16\n",
        "\n",
        "Now download two other datasets \"big_bang_theory_episodes.csv\" and \"big_bang_theory_imbd\" from Canvas and upload them into Python.\n",
        "\n",
        "1. Convert the two datasets to dataframes called \"episodes\" and \"imdb\"\n",
        "\n",
        "2. Save a new dataframe witch only contain the relevant columns from the imbd dataset, namely ['title', 'original_air_date', 'imdb_rating', 'total_votes', 'desc']\n",
        "\n",
        "3. Merge the dataframes episode and the dataframe obtained in step 2. What is the resulting shape?\n",
        "\n"
      ],
      "metadata": {
        "id": "RlYg9lV-ekoH"
      }
    },
    {
      "cell_type": "code",
      "source": [
        "#1-3"
      ],
      "metadata": {
        "id": "K8rBKrJEhTVK"
      },
      "execution_count": null,
      "outputs": []
    },
    {
      "cell_type": "markdown",
      "source": [
        "4. Plot the episode numbers against the corresponding imdb ratings. Find a way to distinguish among different seasons in order to answer the following question in a visual way: which seasons have the highest IMDb ratings?"
      ],
      "metadata": {
        "id": "R3EYJRaohXUh"
      }
    },
    {
      "cell_type": "code",
      "source": [
        "#4"
      ],
      "metadata": {
        "id": "aWWg38dIhy7G"
      },
      "execution_count": null,
      "outputs": []
    },
    {
      "cell_type": "markdown",
      "source": [
        "5. In a similar way, try to find out which seasons have the most US viewers?"
      ],
      "metadata": {
        "id": "kMT6YhvTh4UM"
      }
    },
    {
      "cell_type": "code",
      "source": [],
      "metadata": {
        "id": "lV1e1wtqh-wk"
      },
      "execution_count": null,
      "outputs": []
    },
    {
      "cell_type": "markdown",
      "source": [
        "6. Which episodes received the most votes on IMDb?"
      ],
      "metadata": {
        "id": "Brkg8cjJh_W7"
      }
    },
    {
      "cell_type": "code",
      "source": [],
      "metadata": {
        "id": "saFP3uq8iE49"
      },
      "execution_count": null,
      "outputs": []
    }
  ]
}